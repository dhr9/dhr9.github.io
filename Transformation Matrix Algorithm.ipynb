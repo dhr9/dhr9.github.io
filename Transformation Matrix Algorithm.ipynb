{
 "cells": [
  {
   "cell_type": "markdown",
   "metadata": {},
   "source": [
    "# Transformation Matrix Algorithm under various constraints"
   ]
  },
  {
   "cell_type": "markdown",
   "metadata": {},
   "source": [
    "### <span style=\"color:red\"> ======= PLEASE NOTE THAT THIS IS A WORK IN PROGRESS ======= </span>"
   ]
  },
  {
   "cell_type": "markdown",
   "metadata": {},
   "source": [
    "### The Problem Statement"
   ]
  },
  {
   "cell_type": "markdown",
   "metadata": {},
   "source": [
    "Given two sets of $N$ points in 2D space, the aim of this document is to find the 2D transformation matrix $M$ that can be applied to arrive from the original set to the transformed set."
   ]
  },
  {
   "cell_type": "markdown",
   "metadata": {},
   "source": [
    "### The Prerequisties"
   ]
  },
  {
   "cell_type": "markdown",
   "metadata": {},
   "source": [
    "So what exactly is a 2D transformation matrix? A 2D transformation matrix is a 3x3 matrix that when applied to a point, transforms it to a different point in the cartesian plane. The last 3 elements of the 2D transformation matrix remain 0,0,1. Several different transformations are possible using these 6 numbers as shown in the figure below.\n",
    "\n",
    "![](https://upload.wikimedia.org/wikipedia/commons/thumb/2/2c/2D_affine_transformation_matrix.svg/360px-2D_affine_transformation_matrix.svg.png)"
   ]
  },
  {
   "cell_type": "markdown",
   "metadata": {},
   "source": [
    "Usually, when working with transformations, a mixture of the above transformations is involved. In this notebook, we are going to discuss solutions for the following subtypes:\n",
    "1. Pure Translation\n",
    "2. Pure Scaling\n",
    "3. Scaling + Translation\n",
    "4. Pure Rotation\n",
    "5. Rotation + Translation\n",
    "6. Scaling (with $S_{x} = S_{y}$) + Rotation + Translation (No shear)\n",
    "7. Scaling + Rotation + Translation (No shear)\n",
    "8. No constraints\n",
    "\n",
    "###### We will be using the following notation for the same:\n",
    "\n",
    "$p_{o}$ : Any Point from the original set of points (considered as the vector $[px, py]$ )\n",
    "\n",
    "$p_{t}$ : Any Point from the transformed set of points (considered as the vector $[px, py]$ )\n",
    "\n",
    "$ N $   : Number of points\n",
    "\n",
    "$D_{x}$ : Translation in X direction\n",
    "\n",
    "$D_{y}$ : Translation in Y direction\n",
    "\n",
    "$\\theta$  : Angle of rotation. \n",
    "\n",
    "$S_{x}$ : Scaling in X direction\n",
    "\n",
    "$S_{y}$ : Scaling in Y direction\n",
    "\n",
    "Since, we are not covering shear and reflection, we will be interchangably referring to transformation matrix $M$ as:\n",
    "\n",
    "$\\begin{bmatrix}M_{11} & M_{12} & M_{13}\n",
    "\\\\ M_{21} & M_{22} & M_{23}\\\\ 0& 0 & 1\\end{bmatrix} \\Leftrightarrow \\begin{bmatrix}S_{x} \\cos{\\theta} & S_{x} \\sin{\\theta} & D_{x}\n",
    "\\\\ - S_{y} \\sin{\\theta} & S_{y}\\cos{\\theta} & D_{y}\\\\ 0& 0 & 1\\end{bmatrix}$"
   ]
  },
  {
   "cell_type": "markdown",
   "metadata": {},
   "source": [
    "### I ) Pure Translation\n",
    "This is the easiest of all subtypes. Here,\n",
    "\n",
    "$M = \\begin{bmatrix}1 & 0 & D_{x}\n",
    "\\\\ 0 & 1 & D_{y}\\\\ 0& 0 & 1\\end{bmatrix}$\n",
    "\n",
    "To solve this problem, computing a simple average on the vector $(P_{t}-P_{o})$ will give the values $D_{x}$ and $D_{y}$.\n",
    "\n",
    "$D_{x} = \\frac{\\sum (px_{t}-px_{o})}{N}, D_{y} = \\frac{\\sum (py_{t}-py_{o})}{N}$\n",
    "\n",
    "For **noisy** datapoints, we can compute the standard deviation over the lists $(px_{t}-px_{o})$ and $(py_{t}-py_{o})$ and choose a suitable deviation to remove the outliers as explained [here](#removing_outliers_using_std_dev). "
   ]
  },
  {
   "cell_type": "markdown",
   "metadata": {},
   "source": [
    "### II ) Pure Scaling\n",
    "This is another easy problem to solve. Here,\n",
    "\n",
    "$M = \\begin{bmatrix}S_{x}  & 0 & 0\n",
    "\\\\ 0 & S_{y}& 0\\\\ 0& 0 & 1\\end{bmatrix}$\n",
    "\n",
    "*Note: It is always assumed that the points are being scaled with respect to the origin.*\n",
    "\n",
    "To solve this problem, we will compute a simple average on the vector $(P_{t} / P_{o})$. This will give the values $S_{x}$ and $S_{y}$.\n",
    "\n",
    "$S_{x} = \\frac{\\sum (px_{t}/px_{o})}{N^{*}}, S_{y} = \\frac{\\sum (py_{t}/py_{o})}{N^{*}}$\n",
    "\n",
    "*Note: For $px_{o} = 0$ and $py_{o} = 0$, we will be skipping the points from the average calculation and hence the need for $N^{*}$ which is a count of all points eventually considered.* \n",
    "\n",
    "For **noisy** datapoints, we can compute the standard deviation over the lists $(px_{t} / px_{o})$ and $(py_{t} / py_{o})$ and choose a suitable deviation to remove the outliers as explained [here](#removing_outliers_using_std_dev). "
   ]
  },
  {
   "cell_type": "markdown",
   "metadata": {},
   "source": [
    "### III ) Scaling + Translation\n",
    "For this problem we will use,\n",
    "\n",
    "$M = \\begin{bmatrix}S_{x}  & 0 & D_{x}\n",
    "\\\\ 0 & S_{y}& D_{y}\\\\ 0& 0 & 1\\end{bmatrix}$\n",
    "\n",
    "By writing this matrix as the solution, we are trying to imply that the points were first scaled and then translated. The order of operations is important because if we decide to assume that they were translated first and then scaled, we will have to use $S_{x}.D_{x}$ and $S_{y}.D_{y}$ instead of just $D_{x}$ and $D_{y}$ respectively. This is explained in more detail [here](#order_of_operations_and_why_it_matters). Nevertheless, regardless of the assumed order of operation, our final matrix will come out to be the same, so we will be using our Matrix M. \n",
    "\n",
    "$S_{x}.px_{o} + D_{x} = px_{t}$ and $S_{y}.py_{o} + D_{y} = py_{t}$\n",
    "\n",
    "This is of the form $y = mx + c$ and we can use Linear Regression to solve this problem.\n"
   ]
  },
  {
   "cell_type": "markdown",
   "metadata": {},
   "source": [
    "### IV ) Pure Rotation\n",
    "Here,\n",
    "\n",
    "$ M = \\begin{bmatrix} \\cos{\\theta} &  \\sin{\\theta} & 0\n",
    "\\\\ -  \\sin{\\theta} & \\cos{\\theta} & 0\\\\ 0& 0 & 1\\end{bmatrix}$\n",
    "\n",
    "To solve this problem, \n",
    "![under_construction.png](./img/under_construction.png)\n"
   ]
  },
  {
   "cell_type": "markdown",
   "metadata": {},
   "source": [
    "### V ) Rotation + Translation\n",
    "Here,\n",
    "\n",
    "$ M = \\begin{bmatrix} \\cos{\\theta} &  \\sin{\\theta} & D_{x}\n",
    "\\\\ -  \\sin{\\theta} & \\cos{\\theta} & D_{y}\\\\ 0& 0 & 1\\end{bmatrix}$\n",
    "\n",
    "To solve this problem, \n",
    "![under_construction.png](./img/under_construction.png)\n"
   ]
  },
  {
   "cell_type": "markdown",
   "metadata": {},
   "source": [
    "<a id='removing_outliers_using_std_dev'></a>\n",
    "\n",
    "## Removing Outliers using *Standard deviation*\n",
    "\n",
    "Let's assume a noisy dataset: $[3.2, 3.3, 3.5, 3.9, 4.1, 4.3, 4.7, 4.8, 15]$\n",
    "\n",
    "If we compute a direct average, it will come out to be $5.19$. \n",
    "\n",
    "But we know that a noisy dataset can have outliers that affect the average values. After removing such outliers (in this case the value $15$, we get the true average to be $3.97$.\n",
    "\n",
    "Here's a peek at a code to execute the same:\n"
   ]
  },
  {
   "cell_type": "code",
   "execution_count": 1,
   "metadata": {},
   "outputs": [
    {
     "name": "stdout",
     "output_type": "stream",
     "text": [
      "5.199999999999999\n",
      "3.9749999999999996\n"
     ]
    }
   ],
   "source": [
    "import numpy as np\n",
    "noisy_list = [3.2, 3.3, 3.5, 3.9, 4.1, 4.3, 4.7, 4.8, 15]\n",
    "print(np.average(noisy_list))\n",
    "\n",
    "def remove_outliers(noisy_list, number_of_standard_deviations=2):\n",
    "    std_dev = np.std(noisy_list)\n",
    "    noise_free_list = []\n",
    "    for x in noisy_list:\n",
    "        if(np.abs(x-std_dev)<=number_of_standard_deviations*std_dev):\n",
    "            noise_free_list.append(x)\n",
    "    return noise_free_list\n",
    "\n",
    "noise_free_list = remove_outliers(noisy_list)\n",
    "print(np.average(noise_free_list))\n"
   ]
  },
  {
   "cell_type": "markdown",
   "metadata": {},
   "source": [
    "<a id='order_of_operations_and_why_it_matters'></a>\n",
    "\n",
    "## Order of operations and why it matters\n",
    "\n",
    "To see why the order of operations matters, let us consider the following 2 operations:\n",
    "\n",
    "1) Scaling by a factor of 2 in the x direction\n",
    "\n",
    "2) Rotation by 90 about the origin\n",
    "\n",
    "The individual matrices for them will be $M_{s}$ and $M_{r}$ respectively\n",
    "\n",
    "1) $M_{s} = \\begin{bmatrix}2 & 0 & 0\n",
    "\\\\ 0 & 1 & 0\\\\ 0& 0 & 1\\end{bmatrix}$\n",
    "\n",
    "2) $M_{r} = \\begin{bmatrix}0 & -1 & 0\n",
    "\\\\ 1 & 0 & 0\\\\ 0& 0 & 1\\end{bmatrix}$\n",
    "\n",
    "Consider this image: ![original](./img/matrix/original.jpg)\n",
    "\n",
    "Let us see what happens to this image when applied by these two transformations in different orders:\n",
    "\n",
    "I) First we scale then rotate: \n",
    "\n",
    "SCALED: ![scaled.jpg](./img/matrix/scaled.jpg)\n",
    "\n",
    "SCALED THEN ROTATED: ![scaled_then_rotated.jpg](./img/matrix/scaled_then_rotated.jpg)\n",
    "\n",
    "II) First we rotate then scale: \n",
    "\n",
    "ROTATED: ![rotated.jpg](./img/matrix/rotated.jpg)\n",
    "\n",
    "ROTATED THEN SCALED: ![rotated_then_scaled.jpg](./img/matrix/rotated_then_scaled.jpg)\n",
    "\n",
    "As seen from the experiment above, the order of operations matters. Now pertaining to matrices, the transformation matrices for the above operations will also be different.\n",
    "\n",
    "In case of matrices, we premultiply the matrix of the next operation.\n",
    "\n",
    "So for the scenario where we scale then rotate, \n",
    "the matrix would be: \n",
    "\n",
    "$M_{s-r} = M_{r} * M_{s} = \\begin{bmatrix}0 & -1 & 0\n",
    "\\\\ 1 & 0 & 0\\\\ 0& 0 & 1\\end{bmatrix} * \\begin{bmatrix}2 & 0 & 0\n",
    "\\\\ 0 & 1 & 0\\\\ 0& 0 & 1\\end{bmatrix} = \\begin{bmatrix}0 & -1 & 0\n",
    "\\\\ 2 & 0 & 0\\\\ 0& 0 & 1\\end{bmatrix}$\n",
    "\n",
    "And, for the scenario where we rotate then scale, \n",
    "the matrix would be: \n",
    "\n",
    "$M_{r-s} = M_{s} * M_{r} = \\begin{bmatrix}2 & 0 & 0\n",
    "\\\\ 0 & 1 & 0\\\\ 0& 0 & 1\\end{bmatrix} * \\begin{bmatrix}0 & -1 & 0\n",
    "\\\\ 1 & 0 & 0\\\\ 0& 0 & 1\\end{bmatrix} = \\begin{bmatrix}0 & -2 & 0\n",
    "\\\\ 1 & 0 & 0\\\\ 0& 0 & 1\\end{bmatrix}$\n"
   ]
  },
  {
   "cell_type": "markdown",
   "metadata": {},
   "source": [
    "<a id='why_premultiply'></a>\n",
    "\n",
    "## Why premultiply?\n",
    "\n",
    "I stated that we premultiply the next transformatory matrix in the previous section. I wish to provide an intiute explanation for this technical details.\n",
    "\n",
    "Let us consider that we want to translate an object by $D_{x}$ and $D_{y}$ in x and y respectively. Then we wish to scale it by $S_{x}$ and $S_{y}$ in x and y respectively. For this scenario, consider a point with coordinates $(0,0)$. This will first be shifted to the coordinates $(D_{x}, D_{y})$. Then scaling it will result its shift to the coordinates $(S_{x}*D_{x}, S_{y}*D_{y})$.\n",
    "\n",
    "We know that,\n",
    "\n",
    "TranslatingMatrix $(M_{T}) = \\begin{bmatrix}1 & 0 & D_{x}\n",
    "\\\\ 0 & 1 & D_{y}\\\\ 0& 0 & 1\\end{bmatrix}$\n",
    "\n",
    "ScalingMatrix $(M_{S})= \\begin{bmatrix}S_{x}  & 0 & 0\n",
    "\\\\ 0 & S_{y}&0\\\\ 0& 0 & 1\\end{bmatrix}$\n",
    "\n",
    "We will try $M_{T}*M_{S}$ and $M_{S}*M_{T}$.\n",
    "\n",
    "$M_{T}*M_{S} = \\begin{bmatrix}S_{x} & 0 & D_{x}\n",
    "\\\\ 0 & S_{y} & D_{y}\\\\ 0& 0 & 1\\end{bmatrix}$ \n",
    "\n",
    "And,\n",
    "\n",
    "$M_{S}*M_{T}= \\begin{bmatrix}S_{x} & 0 & S_{x}*D_{x}\n",
    "\\\\ 0 & S_{y} & S_{y}*D_{y}\\\\ 0& 0 & 1\\end{bmatrix} $\n",
    "\n",
    "For a point $(0,0)$, the translated point must be $(S_{x}*D_{x}, S_{y}*D_{y})$ which can only come from the second matrix $(M_{S}*M_{T})$.\n",
    "\n",
    "This is the intiutive explanation for why we do this. The technical answer lies in how we represent these matrices and how we have defined multiplication of matrices. Matrix multiplication is defined as each row of the first matrix being multiplied with each column of the second one. This is shown below:\n",
    "![row_column.jpg](./img/matrix/row_column.png)\n",
    "\n",
    "Also, we represent a standard translation matrix as : $(M_{T}) = \\begin{bmatrix}1 & 0 & D_{x}\n",
    "\\\\ 0 & 1 & D_{y}\\\\ 0& 0 & 1\\end{bmatrix}$\n",
    "\n",
    "If instead, we represented it as $(M_{T}) = \\begin{bmatrix}1 & 0 & 0\n",
    "\\\\ 0 & 1 & 0\\\\ D_{x}& D_{y} & 1\\end{bmatrix}$, then we would not need to premultiply. \n",
    "\n",
    "Hence, it is just a matter of technical representation and definition of matrix multiplication which leads to the need for premultiplication\n"
   ]
  }
 ],
 "metadata": {
  "kernelspec": {
   "display_name": "Python 3",
   "language": "python",
   "name": "python3"
  },
  "language_info": {
   "codemirror_mode": {
    "name": "ipython",
    "version": 3
   },
   "file_extension": ".py",
   "mimetype": "text/x-python",
   "name": "python",
   "nbconvert_exporter": "python",
   "pygments_lexer": "ipython3",
   "version": "3.6.1"
  }
 },
 "nbformat": 4,
 "nbformat_minor": 2
}
